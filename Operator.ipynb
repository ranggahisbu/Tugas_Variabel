{
 "cells": [
  {
   "cell_type": "markdown",
   "id": "1eea3d68-2ebe-49d7-b0c3-a942beb102c2",
   "metadata": {},
   "source": [
    "<h1> Operator Aritmatika </h1>"
   ]
  },
  {
   "cell_type": "code",
   "execution_count": 6,
   "id": "839ad607-815b-44f4-9eb1-ccd13a66cb71",
   "metadata": {},
   "outputs": [
    {
     "name": "stdout",
     "output_type": "stream",
     "text": [
      "27\n",
      "13\n",
      "140\n",
      "2.857142857142857\n",
      "2\n",
      "1280000000\n",
      "6\n"
     ]
    }
   ],
   "source": [
    "#Operator Aritmatika\n",
    "\n",
    "num1 = 20\n",
    "num2 = 7\n",
    "\n",
    "hasil_jumlah = num1 + num2\n",
    "hasil_kurang = num1 - num2\n",
    "hasil_kali = num1 * num2\n",
    "hasil_bagi = num1 / num2\n",
    "hasil_bulat = num1 // num2\n",
    "hasil_eksponen = num1 ** num2\n",
    "hasil_modulus = num1 % num2\n",
    "\n",
    "print(hasil_jumlah)\n",
    "print(hasil_kurang)\n",
    "print(hasil_kali)\n",
    "print(hasil_bagi)\n",
    "print(hasil_bulat)\n",
    "print(hasil_eksponen)\n",
    "print(hasil_modulus)\n"
   ]
  },
  {
   "cell_type": "markdown",
   "id": "ab74798a-5a6b-4269-a99d-d8141b2b2bf5",
   "metadata": {},
   "source": [
    "<h1> Operator Penugasan </h1>"
   ]
  },
  {
   "cell_type": "code",
   "execution_count": 19,
   "id": "4e4cc3d1-c33f-412c-ba9a-515a6a405597",
   "metadata": {},
   "outputs": [
    {
     "name": "stdout",
     "output_type": "stream",
     "text": [
      "10\n",
      "15\n",
      "13\n",
      "39\n",
      "19.5\n",
      "6.0\n",
      "1296.0\n",
      "1.0\n"
     ]
    }
   ],
   "source": [
    "#Operator Penugasan\n",
    "\n",
    "x = 10\n",
    "print(x) #10\n",
    "x += 5   # x = x + 5\n",
    "print(x) # 15\n",
    "x -= 2   # x = x - 2\n",
    "print(x) # 13\n",
    "x *= 3\n",
    "print(x)\n",
    "x /= 2\n",
    "print(x)\n",
    "x //= 3\n",
    "print(x)\n",
    "x **= 4\n",
    "print(x)\n",
    "x %= 5\n",
    "print(x)"
   ]
  },
  {
   "cell_type": "markdown",
   "id": "7c84f9ef-6454-4fce-88fa-38ed685fc4cb",
   "metadata": {},
   "source": [
    "<h1> Operator Perbandingan </h1>"
   ]
  },
  {
   "cell_type": "code",
   "execution_count": 31,
   "id": "b5be4682-f569-46f2-9242-ee56a22c221b",
   "metadata": {},
   "outputs": [
    {
     "name": "stdout",
     "output_type": "stream",
     "text": [
      "False\n",
      "True\n",
      "False\n",
      "True\n",
      "True\n",
      "True\n"
     ]
    }
   ],
   "source": [
    "#Operator Perbandingan\n",
    "\n",
    "y = 5\n",
    "z = 6\n",
    "print(y==z)\n",
    "print(y!=z)\n",
    "print(y>z)\n",
    "print(y<z)\n",
    "print(y>=5)\n",
    "print(y<=6)"
   ]
  },
  {
   "cell_type": "markdown",
   "id": "c3660381-d847-47b1-94ef-fb9baabd6a9e",
   "metadata": {},
   "source": [
    "<h1> Operator Logika </h1>"
   ]
  },
  {
   "cell_type": "code",
   "execution_count": 49,
   "id": "4e631647-4cd8-4be2-8005-ddb2b7a6a468",
   "metadata": {},
   "outputs": [
    {
     "name": "stdout",
     "output_type": "stream",
     "text": [
      "True\n",
      "True\n",
      "False\n"
     ]
    }
   ],
   "source": [
    "#Operator Logika\n",
    "val1 = 10 \n",
    "val2 = 5\n",
    "\n",
    "opr_and = val1 > val2 and val1 < 11 #True\n",
    "opr_or = val1 == 9 or val2 >= 5 #True\n",
    "opr_not = not(opr_and and opr_or) #False\n",
    "\n",
    "print(opr_and)\n",
    "print(opr_or)\n",
    "print(opr_not)"
   ]
  },
  {
   "cell_type": "markdown",
   "id": "64b26d7e-6acb-49e5-bf38-8383c83460ef",
   "metadata": {},
   "source": [
    "<h1> Operator Identitas </h1>"
   ]
  },
  {
   "cell_type": "code",
   "execution_count": 57,
   "id": "7c0c1ce3-d6b1-4623-b1cb-b5a2a1614a6f",
   "metadata": {},
   "outputs": [
    {
     "name": "stdout",
     "output_type": "stream",
     "text": [
      "True\n",
      "False\n",
      "False\n",
      " \n",
      "True\n",
      "False\n"
     ]
    }
   ],
   "source": [
    "#Operator Identitas\n",
    "\n",
    "fruit = [\"Apel\", \"Anggur\", \"Jeruk\"]\n",
    "fav_fruit = fruit\n",
    "your_fruit = [\"Apel\", \"Anggur\", \"Jeruk\"]\n",
    "name = \"Rama\"\n",
    "your_name = \"Rama\"\n",
    "\n",
    "print(fav_fruit is fruit)\n",
    "print(fruit is your_fruit)\n",
    "print(fav_fruit is not fruit)\n",
    "print(\" \")\n",
    "print(name is your_name)\n",
    "print(name is not your_name)"
   ]
  },
  {
   "cell_type": "markdown",
   "id": "53209ec2-ca90-4821-9645-c161b6597176",
   "metadata": {},
   "source": [
    "<h1> Operator Keanggotaan </h1>"
   ]
  },
  {
   "cell_type": "code",
   "execution_count": 67,
   "id": "9ff4872e-5710-44ba-a1ef-f865ce305140",
   "metadata": {},
   "outputs": [
    {
     "name": "stdout",
     "output_type": "stream",
     "text": [
      "True\n",
      "False\n",
      "False\n",
      "False\n",
      "False\n"
     ]
    }
   ],
   "source": [
    "#Operator Keanggotaan\n",
    "\n",
    "kota = [\"Bandung\", \"Jakarta\", \"Ngawi\"]\n",
    "\n",
    "print(\"Jakarta\" in kota)\n",
    "print(\"Bogor\" in kota)\n",
    "print(\"Ngawi\" not in kota)\n",
    "print(\"Ngawi\" in kota and \"Jakarta\" not in kota)\n",
    "print(\"Sukabumi\" in kota or \"Bandung\" not in kota)"
   ]
  },
  {
   "cell_type": "markdown",
   "id": "c9527941-c850-4c80-a20e-15b0d692cf6c",
   "metadata": {},
   "source": [
    "<h1> Operator Bitwise </h1>"
   ]
  },
  {
   "cell_type": "code",
   "execution_count": 73,
   "id": "088ea6e9-0c36-44d8-badc-8cd81e4074a8",
   "metadata": {},
   "outputs": [
    {
     "name": "stdout",
     "output_type": "stream",
     "text": [
      "15\n",
      "255\n",
      "240\n",
      "256\n",
      "32\n"
     ]
    }
   ],
   "source": [
    "#Operator Botwise\n",
    "\n",
    "nilai1 = 255\n",
    "nilai2 = 15\n",
    "bit_and = nilai1 & nilai2 #00001111 =>15\n",
    "bit_or = nilai1 | nilai2  #11111111 =>255\n",
    "bit_xor = nilai1 ^ nilai2 #11110000 =>240\n",
    "\n",
    "print(bit_and)\n",
    "print(bit_or)\n",
    "print(bit_xor)\n",
    "\n",
    "#shift left\n",
    "print(128 << 1) \n",
    "print(128 >> 2) "
   ]
  },
  {
   "cell_type": "code",
   "execution_count": null,
   "id": "3b6d7f62-5665-44a2-8a49-437a9f2c5987",
   "metadata": {},
   "outputs": [],
   "source": []
  }
 ],
 "metadata": {
  "kernelspec": {
   "display_name": "Python 3 (ipykernel)",
   "language": "python",
   "name": "python3"
  },
  "language_info": {
   "codemirror_mode": {
    "name": "ipython",
    "version": 3
   },
   "file_extension": ".py",
   "mimetype": "text/x-python",
   "name": "python",
   "nbconvert_exporter": "python",
   "pygments_lexer": "ipython3",
   "version": "3.11.7"
  }
 },
 "nbformat": 4,
 "nbformat_minor": 5
}
