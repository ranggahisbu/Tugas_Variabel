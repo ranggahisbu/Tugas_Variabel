{
 "cells": [
  {
   "cell_type": "markdown",
   "id": "2b9ca4df",
   "metadata": {},
   "source": [
    "<h1> Belajar </h1>\n",
    "<hr>\n",
    "<font color = \"Green\"> <b>Tipe data pada python adalah :</font>\n",
    "<ol>\n",
    "    <li> Float - (float)</li>\n",
    "    <li> String - (str)</li>\n",
    "    <li> Boolean - (bool)</li>\n",
    "    <li> Integer - (int)</li>\n",
    "</ol><hr>\n",
    "    <font color = \"Red\"> <i>Aturan Penamaan Variabel : </font>\n",
    "<ul>\n",
    "    <li> Tidak boleh menggunakan spasi </li>\n",
    "    <li> Bersifat case sensitive => A != a </li>\n",
    "    <li> Terdiri dari huruf dan karakter - karakter _ (underscore)</li>\n",
    "    <li> Diawali underscore atau huruf </li>\n",
    "    <li> Tidak boleh menggunakan reserved keyword</li>\n",
    "</ul>"
   ]
  },
  {
   "cell_type": "code",
   "execution_count": 18,
   "id": "996a0e70",
   "metadata": {},
   "outputs": [
    {
     "name": "stdout",
     "output_type": "stream",
     "text": [
      "1\n",
      "100\n",
      "50.6\n",
      "True\n"
     ]
    }
   ],
   "source": [
    "data_integer = 100\n",
    "data_float = 50.6\n",
    "data_string = \"1\"\n",
    "data_boolean = True\n",
    "\n",
    "data_string\n",
    "\n",
    "print(data_string)\n",
    "print(data_integer)\n",
    "print(data_float)\n",
    "print(data_boolean)"
   ]
  },
  {
   "cell_type": "code",
   "execution_count": 19,
   "id": "70baa25d",
   "metadata": {},
   "outputs": [
    {
     "name": "stdout",
     "output_type": "stream",
     "text": [
      "<class 'int'>\n",
      "<class 'str'>\n",
      "<class 'float'>\n",
      "<class 'bool'>\n"
     ]
    }
   ],
   "source": [
    "print(type(data_integer))\n",
    "print(type(data_string))\n",
    "print(type(data_float))\n",
    "print(type(data_boolean))"
   ]
  },
  {
   "cell_type": "markdown",
   "id": "8209b394",
   "metadata": {},
   "source": [
    "<h3><b>Konversi Tipe Data Dari integer Ke (String, Float, Boolean)</b></h3>"
   ]
  },
  {
   "cell_type": "code",
   "execution_count": 20,
   "id": "04823baf",
   "metadata": {},
   "outputs": [
    {
     "name": "stdout",
     "output_type": "stream",
     "text": [
      "isikan bilangan 1 :2\n",
      "isikan bilangan 2 :2\n",
      "22\n"
     ]
    }
   ],
   "source": [
    "bil1 = input(\"isikan bilangan 1 :\")\n",
    "bil2 = input(\"isikan bilangan 2 :\")\n",
    "\n",
    "hasil = bil1 + bil2\n",
    "\n",
    "print(hasil)"
   ]
  },
  {
   "cell_type": "code",
   "execution_count": 21,
   "id": "38e1caf6",
   "metadata": {},
   "outputs": [
    {
     "name": "stdout",
     "output_type": "stream",
     "text": [
      "1\n",
      "50\n",
      "1\n",
      "<class 'int'>\n",
      "<class 'int'>\n",
      "<class 'int'>\n",
      "to integer\n"
     ]
    }
   ],
   "source": [
    "str_to_int = int(data_string)\n",
    "float_to_int = int(data_float)\n",
    "bool_to_int = int(data_boolean)\n",
    "\n",
    "print(str_to_int)\n",
    "print(float_to_int)\n",
    "print(bool_to_int)\n",
    "\n",
    "print(type(str_to_int))\n",
    "print(type(float_to_int))\n",
    "print(type(bool_to_int))\n",
    "print (\"to integer\")"
   ]
  },
  {
   "cell_type": "code",
   "execution_count": 22,
   "id": "79d57b58",
   "metadata": {},
   "outputs": [
    {
     "name": "stdout",
     "output_type": "stream",
     "text": [
      "100\n",
      "50.6\n",
      "True\n",
      "<class 'str'>\n",
      "<class 'str'>\n",
      "<class 'str'>\n",
      "to string\n"
     ]
    }
   ],
   "source": [
    "int_to_str = str(data_integer)\n",
    "float_to_str = str(data_float)\n",
    "bool_to_str = str(data_boolean)\n",
    "\n",
    "print(int_to_str)\n",
    "print(float_to_str)\n",
    "print(bool_to_str)\n",
    "\n",
    "print(type(int_to_str))\n",
    "print(type(float_to_str))\n",
    "print(type(bool_to_str))\n",
    "\n",
    "print(\"to string\")"
   ]
  },
  {
   "cell_type": "code",
   "execution_count": 23,
   "id": "356e3768",
   "metadata": {},
   "outputs": [
    {
     "name": "stdout",
     "output_type": "stream",
     "text": [
      "100.0\n",
      "1.0\n",
      "1.0\n",
      "<class 'float'>\n",
      "<class 'float'>\n",
      "<class 'float'>\n",
      "to float\n"
     ]
    }
   ],
   "source": [
    "int_to_float = float(data_integer)\n",
    "str_to_float = float(data_string)\n",
    "bool_to_float = float(data_boolean)\n",
    "\n",
    "print(int_to_float)\n",
    "print(str_to_float)\n",
    "print(bool_to_float)\n",
    "\n",
    "print(type(int_to_float))\n",
    "print(type(str_to_float))\n",
    "print(type(bool_to_float))\n",
    "print(\"to float\")"
   ]
  },
  {
   "cell_type": "code",
   "execution_count": 24,
   "id": "5a50c6c9",
   "metadata": {},
   "outputs": [
    {
     "name": "stdout",
     "output_type": "stream",
     "text": [
      "True\n",
      "True\n",
      "True\n",
      "<class 'bool'>\n",
      "<class 'bool'>\n",
      "<class 'bool'>\n",
      "to boolean\n"
     ]
    }
   ],
   "source": [
    "int_to_bool = bool(data_integer)\n",
    "float_to_bool = bool(data_float)\n",
    "str_to_bool = bool(data_boolean)\n",
    "\n",
    "print(int_to_bool)\n",
    "print(float_to_bool)\n",
    "print(str_to_bool)\n",
    "\n",
    "print(type(int_to_bool))\n",
    "print(type(float_to_bool))\n",
    "print(type(str_to_bool))\n",
    "print (\"to boolean\")"
   ]
  }
 ],
 "metadata": {
  "kernelspec": {
   "display_name": "Python 3 (ipykernel)",
   "language": "python",
   "name": "python3"
  },
  "language_info": {
   "codemirror_mode": {
    "name": "ipython",
    "version": 3
   },
   "file_extension": ".py",
   "mimetype": "text/x-python",
   "name": "python",
   "nbconvert_exporter": "python",
   "pygments_lexer": "ipython3",
   "version": "3.9.12"
  }
 },
 "nbformat": 4,
 "nbformat_minor": 5
}
